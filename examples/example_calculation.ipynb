{
 "cells": [
  {
   "cell_type": "code",
   "execution_count": 1,
   "metadata": {},
   "outputs": [],
   "source": [
    "import pandas as pd\n",
    "import numpy as np\n",
    "import sys, os\n",
    "\n",
    "if not os.path.exists(\"OSAT\") and os.path.exists(\n",
    "    \"../OSAT\"\n",
    "):  # hack to allow scripts to be placed in subdirectories next to AlOlivThermo:\n",
    "    sys.path.insert(1, os.path.abspath(\"..\"))\n",
    "\n",
    "from OSAT import thermometers"
   ]
  },
  {
   "cell_type": "code",
   "execution_count": 2,
   "metadata": {},
   "outputs": [
    {
     "name": "stderr",
     "output_type": "stream",
     "text": [
      "/Users/easonzz/Documents/GitHub/olspthermo/OSAT/thermometers.py:90: FutureWarning: Setting an item of incompatible dtype is deprecated and will raise in a future error of pandas. Value '[0.16959803]' has dtype incompatible with int64, please explicitly cast to a compatible dtype first.\n",
      "  dfmc.loc[(8 * dfmc[\"sumcat\"] / 3 - dfmc[\"sumchg\"] - 2 * dfmc[\"FeO\"]) > 0, \"fe3\"] = (\n"
     ]
    }
   ],
   "source": [
    "df_ol = pd.read_excel(\"input_ol.xlsx\")\n",
    "df_sp = pd.read_excel(\"input_sp.xlsx\")\n",
    "\n",
    "results= thermometers.models(df_ol, df_sp).compute()"
   ]
  },
  {
   "cell_type": "code",
   "execution_count": 3,
   "metadata": {},
   "outputs": [
    {
     "data": {
      "text/html": [
       "<div>\n",
       "<style scoped>\n",
       "    .dataframe tbody tr th:only-of-type {\n",
       "        vertical-align: middle;\n",
       "    }\n",
       "\n",
       "    .dataframe tbody tr th {\n",
       "        vertical-align: top;\n",
       "    }\n",
       "\n",
       "    .dataframe thead th {\n",
       "        text-align: right;\n",
       "    }\n",
       "</style>\n",
       "<table border=\"1\" class=\"dataframe\">\n",
       "  <thead>\n",
       "    <tr style=\"text-align: right;\">\n",
       "      <th></th>\n",
       "      <th>sample_no</th>\n",
       "      <th>SiO2_ol</th>\n",
       "      <th>TiO2_ol</th>\n",
       "      <th>Al2O3_ol</th>\n",
       "      <th>FeO_ol</th>\n",
       "      <th>MnO_ol</th>\n",
       "      <th>MgO_ol</th>\n",
       "      <th>CaO_ol</th>\n",
       "      <th>Na2O_ol</th>\n",
       "      <th>P2O5_ol</th>\n",
       "      <th>...</th>\n",
       "      <th>t_zThermoAlCr</th>\n",
       "      <th>err_zThermoAlCr</th>\n",
       "      <th>t_zThermoAl</th>\n",
       "      <th>err_zThermoAl</th>\n",
       "      <th>t_zThermoCr</th>\n",
       "      <th>err_zThermoCr</th>\n",
       "      <th>z_thermo_cr</th>\n",
       "      <th>z_thermo_al</th>\n",
       "      <th>p_thermo_cr</th>\n",
       "      <th>p_thermo_al</th>\n",
       "    </tr>\n",
       "  </thead>\n",
       "  <tbody>\n",
       "    <tr>\n",
       "      <th>0</th>\n",
       "      <td>PI082_02</td>\n",
       "      <td>40.112</td>\n",
       "      <td>0.0192</td>\n",
       "      <td>0.0341</td>\n",
       "      <td>16.669</td>\n",
       "      <td>0.269</td>\n",
       "      <td>42.334</td>\n",
       "      <td>0.242</td>\n",
       "      <td>0</td>\n",
       "      <td>0</td>\n",
       "      <td>...</td>\n",
       "      <td>1171.235391</td>\n",
       "      <td>43.3</td>\n",
       "      <td>1171.235391</td>\n",
       "      <td>43.3</td>\n",
       "      <td>1090.821373</td>\n",
       "      <td>23.9</td>\n",
       "      <td>0.761434</td>\n",
       "      <td>1.625903</td>\n",
       "      <td>0.223199</td>\n",
       "      <td>0.051985</td>\n",
       "    </tr>\n",
       "  </tbody>\n",
       "</table>\n",
       "<p>1 rows × 79 columns</p>\n",
       "</div>"
      ],
      "text/plain": [
       "  sample_no  SiO2_ol  TiO2_ol  Al2O3_ol  FeO_ol  MnO_ol  MgO_ol  CaO_ol  \\\n",
       "0  PI082_02   40.112   0.0192    0.0341  16.669   0.269  42.334   0.242   \n",
       "\n",
       "   Na2O_ol  P2O5_ol  ...  t_zThermoAlCr  err_zThermoAlCr  t_zThermoAl  \\\n",
       "0        0        0  ...    1171.235391             43.3  1171.235391   \n",
       "\n",
       "   err_zThermoAl  t_zThermoCr  err_zThermoCr  z_thermo_cr  z_thermo_al  \\\n",
       "0           43.3  1090.821373           23.9     0.761434     1.625903   \n",
       "\n",
       "   p_thermo_cr  p_thermo_al  \n",
       "0     0.223199     0.051985  \n",
       "\n",
       "[1 rows x 79 columns]"
      ]
     },
     "execution_count": 3,
     "metadata": {},
     "output_type": "execute_result"
    }
   ],
   "source": [
    "results"
   ]
  },
  {
   "cell_type": "code",
   "execution_count": 4,
   "metadata": {},
   "outputs": [],
   "source": [
    "# results.to_excel('results_pi082.xlsx', index=False)"
   ]
  }
 ],
 "metadata": {
  "kernelspec": {
   "display_name": "base",
   "language": "python",
   "name": "python3"
  },
  "language_info": {
   "codemirror_mode": {
    "name": "ipython",
    "version": 3
   },
   "file_extension": ".py",
   "mimetype": "text/x-python",
   "name": "python",
   "nbconvert_exporter": "python",
   "pygments_lexer": "ipython3",
   "version": "3.9.6"
  },
  "orig_nbformat": 4
 },
 "nbformat": 4,
 "nbformat_minor": 2
}
